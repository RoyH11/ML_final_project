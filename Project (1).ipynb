{
 "cells": [
  {
   "cell_type": "code",
   "execution_count": 2,
   "metadata": {},
   "outputs": [],
   "source": [
    "%matplotlib inline\n",
    "import numpy as np\n",
    "import matplotlib.pyplot as plt\n",
    "from scipy import stats\n",
    "from sklearn.datasets import fetch_openml\n",
    "import pickle\n",
    "from scipy.special import expit\n",
    "from sklearn.model_selection import train_test_split"
   ]
  },
  {
   "cell_type": "markdown",
   "metadata": {},
   "source": [
    "## Open MNIST data and create a subset with desired digits\n",
    "MNIST dataset contains 70,000 images of hand-written digits from 0 to 9. Each image has a grey-scale resolution of 28 $\\times$ 28 (i.e., 784 pixels). Each pixel has an integer value ranging from 0 (bright) to 255 (dark).\n",
    "\n",
    "<font color=red>Change the code below to select a different subset </font>"
   ]
  },
  {
   "cell_type": "code",
   "execution_count": 3,
   "metadata": {},
   "outputs": [
    {
     "name": "stderr",
     "output_type": "stream",
     "text": [
      "C:\\Users\\ruoqi\\AppData\\Local\\Packages\\PythonSoftwareFoundation.Python.3.11_qbz5n2kfra8p0\\LocalCache\\local-packages\\Python311\\site-packages\\sklearn\\datasets\\_openml.py:1022: FutureWarning: The default value of `parser` will change from `'liac-arff'` to `'auto'` in 1.4. You can set `parser='auto'` to silence this warning. Therefore, an `ImportError` will be raised from 1.4 if the dataset is dense and pandas is not installed. Note that the pandas parser may return different data types. See the Notes Section in fetch_openml's API doc for details.\n",
      "  warn(\n"
     ]
    }
   ],
   "source": [
    "X, y = fetch_openml(\"mnist_784\", version=1, return_X_y=True, as_frame=False)\n",
    "y = np.asarray([int(numeric_string) for numeric_string in y])\n",
    "\n",
    "# Change the conditions below to compare between other two digits.\n",
    "class1Indices = (y==0)\n",
    "class2Indices = (y==1)\n",
    "\n",
    "x1 = X[class1Indices]\n",
    "x2 = X[class2Indices]\n",
    "\n",
    "Xtrain = np.concatenate((x1,x2),axis=0)\n",
    "ytrain = np.concatenate((np.zeros(x1.shape[0]),np.ones(x2.shape[0])),axis=0)\n",
    "\n",
    "# Saving the temporary variables for fast retrieval\n",
    "with open('temp.pickle', 'wb') as handle:\n",
    "    pickle.dump([Xtrain, ytrain], handle)\n",
    "\n"
   ]
  },
  {
   "cell_type": "markdown",
   "metadata": {},
   "source": [
    "# Split the data to training, testing, and validation subsets"
   ]
  },
  {
   "cell_type": "code",
   "execution_count": 4,
   "metadata": {},
   "outputs": [
    {
     "name": "stdout",
     "output_type": "stream",
     "text": [
      "Number of samples:  8897\n",
      "Number of features:  784\n"
     ]
    }
   ],
   "source": [
    "# loading the temporary variables for fast retrieval\n",
    "with open('temp.pickle', 'rb') as handle:\n",
    "    Xtrain, ytrain = pickle.load(handle)\n",
    "    \n",
    "# Split the data to training, testing, and validation subsets\n",
    "    \n",
    "X_train, X_test, y_train, y_test = train_test_split(Xtrain, ytrain, test_size=0.3, random_state=1)\n",
    "\n",
    "X_train, X_val, y_train, y_val = train_test_split(X_train, y_train, test_size=0.14, random_state=1) # 0.25 x 0.8 = 0.2\n",
    "\n",
    "\n",
    "Nsamples = X_train.shape[0]\n",
    "Nfeatures = X_train.shape[1]\n",
    "\n",
    "print(\"Number of samples: \", Nsamples)\n",
    "print(\"Number of features: \", Nfeatures)\n"
   ]
  },
  {
   "cell_type": "code",
   "execution_count": 5,
   "metadata": {},
   "outputs": [
    {
     "name": "stdout",
     "output_type": "stream",
     "text": [
      "(8897, 784)\n",
      "(8897,)\n",
      "\n"
     ]
    }
   ],
   "source": [
    "print(X_train.shape)\n",
    "print(y_train.shape)\n",
    "print()"
   ]
  },
  {
   "cell_type": "markdown",
   "metadata": {},
   "source": [
    "# Accuracy of a classifier"
   ]
  },
  {
   "cell_type": "code",
   "execution_count": 6,
   "metadata": {},
   "outputs": [],
   "source": [
    "def testLinearClassifier(a,X,y):\n",
    "\n",
    "    misclassifications = 0\n",
    "    \n",
    "    # YOUR CODE HERE\n",
    "    y_pred = X @ a[:-1] + a[-1] \n",
    "    # y_pred = X @ a[0:] + a[0]\n",
    "    # check how many misclassifications\n",
    "    y_pred[y_pred >= 0] = 1\n",
    "    y_pred[y_pred < 0] = 0\n",
    "    misclassifications = np.sum(y_pred != y)\n",
    "    \n",
    "    return misclassifications\n"
   ]
  },
  {
   "cell_type": "markdown",
   "metadata": {},
   "source": [
    "## Define and test gaussianClassifierWithIdentityCovariance "
   ]
  },
  {
   "cell_type": "code",
   "execution_count": null,
   "metadata": {},
   "outputs": [],
   "source": []
  },
  {
   "cell_type": "code",
   "execution_count": 7,
   "metadata": {},
   "outputs": [
    {
     "name": "stdout",
     "output_type": "stream",
     "text": [
      "(785,)\n",
      "64\n",
      "9\n",
      "36\n"
     ]
    },
    {
     "data": {
      "image/png": "[encoded data removed]",
      "text/plain": [
       "<Figure size 640x480 with 1 Axes>"
      ]
     },
     "metadata": {},
     "output_type": "display_data"
    }
   ],
   "source": [
    "#------TRAINING CODE --------------\n",
    "\n",
    "def gaussianClassifierWithIdentityCovariance(Xtrain,ytrain):\n",
    "    \n",
    "    u1 = np.mean(Xtrain[ytrain==0],axis=0)\n",
    "    u2 = np.mean(Xtrain[ytrain==1],axis=0)\n",
    "\n",
    "    \n",
    "\n",
    "    W_t = (u2-u1).T\n",
    "    # print(W_t.shape)\n",
    "    W_0 = - W_t @ (u1+u2)/2\n",
    "\n",
    "    a = np.concatenate((W_t, W_0), axis=None)\n",
    "    \n",
    "\n",
    "    \n",
    "    return a\n",
    "\n",
    "\n",
    "#------SIMPLE TESTING ON THE TRAINING DATA ITSELF --------------\n",
    "a = gaussianClassifierWithIdentityCovariance(X_train,y_train)\n",
    "print(a.shape)\n",
    "plt.imshow(np.reshape(a[0:784],(28,28)))\n",
    "\n",
    "train = testLinearClassifier(a,X_train,y_train)\n",
    "val = testLinearClassifier(a,X_val,y_val)\n",
    "test = testLinearClassifier(a,X_test,y_test)\n",
    "\n",
    "print(train)\n",
    "print(val)\n",
    "print(test)\n",
    "\n",
    "\n"
   ]
  },
  {
   "cell_type": "markdown",
   "metadata": {},
   "source": [
    "## Define and test gaussianClassifierWithCommonCovariance "
   ]
  },
  {
   "cell_type": "code",
   "execution_count": null,
   "metadata": {},
   "outputs": [],
   "source": []
  },
  {
   "cell_type": "code",
   "execution_count": 8,
   "metadata": {},
   "outputs": [
    {
     "name": "stdout",
     "output_type": "stream",
     "text": [
      "86\n",
      "16\n",
      "44\n"
     ]
    },
    {
     "data": {
      "image/png": "[encoded data removed]",
      "text/plain": [
       "<Figure size 640x480 with 1 Axes>"
      ]
     },
     "metadata": {},
     "output_type": "display_data"
    }
   ],
   "source": [
    "#------TRAINING CODE --------------\n",
    "\n",
    "def gaussianClassifierWithCommonCovariance(Xtrain,ytrain):\n",
    "\n",
    "    u1 = np.mean(Xtrain[ytrain==0],axis=0)\n",
    "    u2 = np.mean(Xtrain[ytrain==1],axis=0)\n",
    "    # Create mean subtracted images\n",
    "    e1 = x1 - u1\n",
    "    e2 = x2 - u2\n",
    "\n",
    "    # Compute the combined covariance matrix, assuming it to be diagonal\n",
    "\n",
    "    e12 = np.concatenate((e1,e2),axis=0)\n",
    "    std = np.std(e12,axis=0)\n",
    "\n",
    "    # print(std.shape)\n",
    "\n",
    "    sigma = std**2\n",
    "    sigma = sigma +  1e-6 * np.eye(sigma.shape[0])\n",
    "    sigma_inv = np.linalg.inv(sigma)\n",
    "\n",
    "\n",
    "    W_t = (u2-u1).T @ sigma_inv\n",
    "    # print(W_t.shape)\n",
    "    W_0 = - W_t @ (u1+u2)/2\n",
    "\n",
    "    a = np.concatenate((W_t, W_0), axis=None)\n",
    "    \n",
    "    return a\n",
    "    #YOUR CODE HERE\n",
    "\n",
    "    \n",
    "#------SIMPLE TESTING ON THE TRAINING DATA ITSELF --------------\n",
    "a = gaussianClassifierWithCommonCovariance(X_train,y_train)\n",
    "plt.imshow(np.reshape(a[0:784],(28,28)))\n",
    "\n",
    "train = testLinearClassifier(a,X_train,y_train)\n",
    "val = testLinearClassifier(a,X_val,y_val)\n",
    "test = testLinearClassifier(a,X_test,y_test)\n",
    "\n",
    "print(train)\n",
    "print(val)\n",
    "print(test)\n"
   ]
  },
  {
   "cell_type": "markdown",
   "metadata": {},
   "source": [
    "## Define and test logisticRegression \n",
    "\n",
    "You may choose the step size as 1e-4. You can try changing it.\n",
    "\n",
    "Use the expit() function from scipy.special.expit to implement sigmoid without overflow errors "
   ]
  },
  {
   "cell_type": "code",
   "execution_count": 9,
   "metadata": {},
   "outputs": [
    {
     "name": "stdout",
     "output_type": "stream",
     "text": [
      "7\n",
      "0\n",
      "4\n"
     ]
    },
    {
     "data": {
      "image/png": "[encoded data removed]",
      "text/plain": [
       "<Figure size 640x480 with 1 Axes>"
      ]
     },
     "metadata": {},
     "output_type": "display_data"
    }
   ],
   "source": [
    "def logisticRegression(Xtrain,ytrain,iterations=100,step_size=1e-4,verbose=False):\n",
    "\n",
    "    # Nsamples = Xtrain.shape[0] = 8897\n",
    "    # Nfeatures = Xtrain.shape[1] = 784\n",
    "    # initialize the weights\n",
    "    a = np.random.randn(Xtrain.shape[1]+1)\n",
    "    # print(\"a shape\", a.shape)\n",
    "    X_tilda = np.concatenate((Xtrain,np.ones((Xtrain.shape[0],1))),axis=1)\n",
    "    # print(\"x_tilda shape\", X_tilda.shape)\n",
    "\n",
    "    s = expit(X_tilda @ a)\n",
    "    # print(\"s shape\", s.shape)\n",
    "\n",
    "    # print(\"ytrain shape\", ytrain.shape)\n",
    "\n",
    "    for i in range(iterations):\n",
    "        s = expit(X_tilda @ a)\n",
    "        a = a - step_size * X_tilda.T @ (s-ytrain)\n",
    "    \n",
    "    return a\n",
    "    #YOUR CODE HERE\n",
    "    \n",
    "#------SIMPLE TESTING ON THE TRAINING DATA ITSELF --------------\n",
    "a = logisticRegression(X_train,y_train,iterations=500,verbose=False)\n",
    "plt.imshow(np.reshape(a[0:784],(28,28)))\n",
    "\n",
    "train = testLinearClassifier(a,X_train,y_train)\n",
    "val = testLinearClassifier(a,X_val,y_val)\n",
    "test = testLinearClassifier(a,X_test,y_test)\n",
    "\n",
    "print(train)\n",
    "print(val)\n",
    "print(test)\n",
    "\n"
   ]
  },
  {
   "cell_type": "code",
   "execution_count": 10,
   "metadata": {},
   "outputs": [
    {
     "name": "stdout",
     "output_type": "stream",
     "text": [
      "[[1. 1. 1.]\n",
      " [1. 1. 1.]]\n",
      "(2, 3)\n"
     ]
    }
   ],
   "source": [
    "# create a 2*3 matrix of 1s\n",
    "test_x = np.ones((2,3))\n",
    "print(test_x)\n",
    "print(test_x.shape)"
   ]
  },
  {
   "cell_type": "code",
   "execution_count": 11,
   "metadata": {},
   "outputs": [
    {
     "name": "stdout",
     "output_type": "stream",
     "text": [
      "8\n",
      "0\n",
      "4\n"
     ]
    },
    {
     "data": {
      "image/png": "[encoded data removed]",
      "text/plain": [
       "<Figure size 640x480 with 1 Axes>"
      ]
     },
     "metadata": {},
     "output_type": "display_data"
    }
   ],
   "source": [
    "def logisticRegressionWithRegularization(Xtrain,ytrain,iterations=100,step_size=1e-4,lam=0,verbose=False):\n",
    "\n",
    "\n",
    "    # Nsamples = Xtrain.shape[0] = 8897\n",
    "    # Nfeatures = Xtrain.shape[1] = 784\n",
    "    # initialize the weights\n",
    "    a = np.random.randn(Xtrain.shape[1]+1)\n",
    "    # print(\"a shape\", a.shape)\n",
    "    X_tilda = np.concatenate((Xtrain,np.ones((Xtrain.shape[0],1))),axis=1)\n",
    "    # print(\"x_tilda shape\", X_tilda.shape)\n",
    "\n",
    "    s = expit(X_tilda @ a)\n",
    "    # print(\"s shape\", s.shape)\n",
    "\n",
    "    # print(\"ytrain shape\", ytrain.shape)\n",
    "\n",
    "    for i in range(iterations):\n",
    "        s = expit(X_tilda @ a)\n",
    "        gradient_regularization = 2 * lam * a \n",
    "        a = a - step_size * (X_tilda.T @ (s-ytrain) + gradient_regularization)\n",
    "    \n",
    "    return a\n",
    "    #YOUR CODE HERE\n",
    "\n",
    "    \n",
    "#------SIMPLE TESTING ON THE TRAINING DATA ITSELF --------------\n",
    "a = logisticRegressionWithRegularization(X_train,y_train,iterations=500,verbose=False,lam=1)\n",
    "plt.imshow(np.reshape(a[0:784],(28,28)))\n",
    "\n",
    "train = testLinearClassifier(a,X_train,y_train)\n",
    "val = testLinearClassifier(a,X_val,y_val)\n",
    "test = testLinearClassifier(a,X_test,y_test)\n",
    "\n",
    "print(train)\n",
    "print(val)\n",
    "print(test)\n",
    "\n"
   ]
  },
  {
   "cell_type": "code",
   "execution_count": 12,
   "metadata": {},
   "outputs": [
    {
     "name": "stdout",
     "output_type": "stream",
     "text": [
      "optimal lambda 0.0\n",
      "10\n",
      "0\n",
      "4\n"
     ]
    },
    {
     "data": {
      "image/png": "[encoded data removed]",
      "text/plain": [
       "<Figure size 640x480 with 1 Axes>"
      ]
     },
     "metadata": {},
     "output_type": "display_data"
    }
   ],
   "source": [
    "def optimizeHyperparameters(Xtrain,ytrain):\n",
    "     \n",
    "    # lambda from -10 to 10, 21 values\n",
    "    lambda_list = np.linspace(0,10,21)\n",
    "\n",
    "    iterations = 500\n",
    "    step_size = 1e-4\n",
    "\n",
    "    a_list = []\n",
    "    misclassifications = []\n",
    "    min_misclassifications = 0\n",
    "    min_index = 0\n",
    "    \n",
    "    a = np.random.randn(Xtrain.shape[1]+1)\n",
    "    \n",
    "    X_tilda = np.concatenate((Xtrain,np.ones((Xtrain.shape[0],1))),axis=1)\n",
    "\n",
    "    # loop through all lambda values\n",
    "    for i in range(lambda_list.shape[0]):\n",
    "\n",
    "        # find a for each lambda\n",
    "        for j in range(iterations):\n",
    "            s = expit(X_tilda @ a)\n",
    "            gradient_regularization = 2 * lambda_list[i] * a \n",
    "            a = a - step_size * (X_tilda.T @ (s-ytrain) + gradient_regularization)\n",
    "\n",
    "        # store a and misclassifications\n",
    "        a_list.append(a)\n",
    "        misclassifications.append(testLinearClassifier(a,X_val,y_val))\n",
    "\n",
    "        # find the minimum misclassifications\n",
    "        if(i == 0):\n",
    "            min_misclassifications = misclassifications[i]\n",
    "        else:\n",
    "            if(misclassifications[i] < min_misclassifications):\n",
    "                min_misclassifications = misclassifications[i]\n",
    "                min_index = i\n",
    "\n",
    "    lamopt = lambda_list[min_index]\n",
    "        \n",
    "    return lamopt\n",
    "\n",
    "my_lamopt = optimizeHyperparameters(X_train,y_train)\n",
    "print(\"optimal lambda\", my_lamopt)\n",
    "a = logisticRegressionWithRegularization(X_train,y_train,iterations=500,verbose=False,lam=my_lamopt)\n",
    "plt.imshow(np.reshape(a[0:784],(28,28)))\n",
    "\n",
    "train = testLinearClassifier(a,X_train,y_train)\n",
    "val = testLinearClassifier(a,X_val,y_val)\n",
    "test = testLinearClassifier(a,X_test,y_test)\n",
    "\n",
    "print(train)\n",
    "print(val)\n",
    "print(test)\n",
    "\n",
    "\n"
   ]
  },
  {
   "cell_type": "markdown",
   "metadata": {},
   "source": [
    "# REPORT TEST ERRORS OF THE BEST MODELS\n",
    "\n",
    "YOUR CODE BELOW"
   ]
  },
  {
   "cell_type": "code",
   "execution_count": 13,
   "metadata": {},
   "outputs": [
    {
     "name": "stdout",
     "output_type": "stream",
     "text": [
      "a1, a2, a3, a4\n",
      "train [64, 86, 6, 13]\n",
      "val [9, 16, 0, 0]\n",
      "test [36, 44, 4, 6]\n"
     ]
    }
   ],
   "source": [
    "# compare all above methods\n",
    "a_list = []\n",
    "\n",
    "a1 = gaussianClassifierWithIdentityCovariance(X_train,y_train)\n",
    "a2 = gaussianClassifierWithCommonCovariance(X_train,y_train)\n",
    "a3 = logisticRegression(X_train,y_train,iterations=500,verbose=False)\n",
    "a4 = logisticRegressionWithRegularization(X_train,y_train,iterations=500,verbose=False,lam=-4.5)\n",
    "\n",
    "a_list.append(a1)\n",
    "a_list.append(a2)\n",
    "a_list.append(a3)\n",
    "a_list.append(a4)\n",
    "\n",
    "train_list = []\n",
    "val_list = []\n",
    "test_list = []\n",
    "\n",
    "for i in range(len(a_list)):\n",
    "    train_list.append(testLinearClassifier(a_list[i],X_train,y_train))\n",
    "    val_list.append(testLinearClassifier(a_list[i],X_val,y_val))\n",
    "    test_list.append(testLinearClassifier(a_list[i],X_test,y_test))\n",
    "\n",
    "print(\"a1, a2, a3, a4\")\n",
    "print(\"train\", train_list)\n",
    "print(\"val\", val_list)\n",
    "print(\"test\", test_list)\n",
    "\n",
    "\n"
   ]
  }
 ],
 "metadata": {
  "anaconda-cloud": {},
  "kernelspec": {
   "display_name": "Python 3 (ipykernel)",
   "language": "python",
   "name": "python3"
  },
  "language_info": {
   "codemirror_mode": {
    "name": "ipython",
    "version": 3
   },
   "file_extension": ".py",
   "mimetype": "text/x-python",
   "name": "python",
   "nbconvert_exporter": "python",
   "pygments_lexer": "ipython3",
   "version": "3.11.6"
  }
 },
 "nbformat": 4,
 "nbformat_minor": 4
}
